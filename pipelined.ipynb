{
 "cells": [
  {
   "cell_type": "code",
   "execution_count": 6,
   "metadata": {
    "scrolled": true
   },
   "outputs": [],
   "source": [
    "import pandas as pd\n",
    "import numpy as np\n",
    "from sklearn.decomposition import PCA\n",
    "\n",
    "#tb.loc[tb['Instrument Classification (ISO 10962 CFI code)'].isin(['JFTXFP'])]\n",
    "#tb.plot.hist(tb.groupby(['Trading platform']).Price.agg(['mean', max]))\n",
    "#tb.describe()\n",
    "#print(tb.shape)\n",
    "\n",
    "df = pd.read_feather('C:/Users/asus/Documents/rts27.feather')\n",
    "\n",
    "#Columns deemed unneccessary for this task\n",
    "df2 = df.drop(['file_name','designated_market_makers','legal_entity_name', 'systematic_internaliser_flag'], axis = 1)\n"
   ]
  },
  {
   "cell_type": "code",
   "execution_count": 7,
   "metadata": {},
   "outputs": [
    {
     "data": {
      "text/plain": [
       "id                                       0\n",
       "bank_name                                0\n",
       "legal_entity_name                        0\n",
       "file_name                                0\n",
       "date_of_trading_day                      0\n",
       "instrument_identifier               496474\n",
       "instrument_classification          7525372\n",
       "order_request_quotes_received       134236\n",
       "executed_transactions              3032834\n",
       "total_value_of_transactions        4976761\n",
       "order_request_quotes_can_wdrwn     1172550\n",
       "order_request_quotes_modified      2140910\n",
       "median_transaction_size            4207916\n",
       "median_size_request_quotes         2156422\n",
       "designated_market_makers           9578651\n",
       "active                                   0\n",
       "date_created                             0\n",
       "source_instrument_desc             9489024\n",
       "source_instrument_ccy              2143014\n",
       "source_market_segment              5539694\n",
       "smartie_instrument_id             13064739\n",
       "systematic_internaliser_flag       9793955\n",
       "liquidity_provider_flag           12623214\n",
       "traded_in_natwest_markets                0\n",
       "source_instrument_name             7614679\n",
       "total_value_of_trans_eur           8441655\n",
       "total_value_of_trans_gbp           8464530\n",
       "median_transaction_size_eur        8612695\n",
       "median_transaction_size_gbp        8635573\n",
       "median_size_request_quotes_eur     6784574\n",
       "median_size_request_quotes_gbp     7163126\n",
       "smartie_instrument_name           13064739\n",
       "data_quality_flag                 10949854\n",
       "egb_eligible_flag                 13064739\n",
       "year_quarter                             0\n",
       "business                          13064739\n",
       "central_bank_isin_flag            13053208\n",
       "dtype: int64"
      ]
     },
     "execution_count": 7,
     "metadata": {},
     "output_type": "execute_result"
    }
   ],
   "source": [
    "df.isnull().sum()"
   ]
  },
  {
   "cell_type": "code",
   "execution_count": 22,
   "metadata": {},
   "outputs": [
    {
     "name": "stdout",
     "output_type": "stream",
     "text": [
      "                    0\n",
      "0        0.000000e+00\n",
      "1        0.000000e+00\n",
      "2        0.000000e+00\n",
      "3        0.000000e+00\n",
      "4        3.128493e+11\n",
      "...               ...\n",
      "5851704  0.000000e+00\n",
      "5851705  0.000000e+00\n",
      "5851706  8.284364e+05\n",
      "5851707  0.000000e+00\n",
      "5851708  0.000000e+00\n",
      "\n",
      "[5851709 rows x 1 columns]\n",
      "Coefficients: \n",
      " [[ 2.06959893e+08  7.84980909e+12 -3.33109461e+11 -1.25847163e+11\n",
      "   2.43714781e+12]]\n"
     ]
    }
   ],
   "source": [
    "from sklearn.compose import ColumnTransformer\n",
    "from sklearn.pipeline import Pipeline\n",
    "from sklearn.metrics import mean_absolute_error\n",
    "from sklearn.ensemble import RandomForestRegressor\n",
    "from sklearn.impute import SimpleImputer\n",
    "from sklearn_pandas import DataFrameMapper\n",
    "\n",
    "import sklearn\n",
    "from sklearn.preprocessing import StandardScaler\n",
    "from sklearn import preprocessing\n",
    "import matplotlib.pyplot as plt\n",
    "from sklearn.model_selection import train_test_split\n",
    "from sklearn.preprocessing import LabelEncoder\n",
    "from sklearn.preprocessing import OneHotEncoder\n",
    "from sklearn import datasets, linear_model\n",
    "from sklearn.decomposition import TruncatedSVD\n",
    "\n",
    "\n",
    "from datetime import datetime\n",
    "\n",
    "#Columns deemed unneccessary for this task\n",
    "#df = df.drop(['file_name','designated_market_makers','legal_entity_name', 'systematic_internaliser_flag'], axis = 1)\n",
    "\n",
    "\n",
    "#Filters the code to FX forwards only\n",
    "#df = df.loc[(df['source_instrument_desc']).astype(str).str.contains(\"Forward\")]\n",
    "df=df2\n",
    "df = df.loc[(df['instrument_classification']).astype(str).str.contains(\"JF\") | (df['source_instrument_desc']).astype(str).str.contains(\"Forward\")]\n",
    "#Drops the columns of which half of the fields have no data.\n",
    "#df = df.dropna(axis=1, thresh=2000000)\n",
    "\n",
    "        \n",
    "# Select target\n",
    "y = df['total_value_of_transactions']\n",
    "# To keep things simple, we'll use only numerical predictors\n",
    "dropped_df = df.drop(['total_value_of_transactions'], axis=1)\n",
    "X = dropped_df\n",
    "\n",
    "im = SimpleImputer(strategy='mean',missing_values=np.nan)\n",
    "y = y.to_numpy().reshape(-1,1)\n",
    "y = im.fit_transform(y)\n",
    "y = pd.DataFrame(y)\n",
    "print(y)\n",
    "\n",
    "# Divide data into training and validation subsets\n",
    "X_train, X_valid, y_train, y_valid = train_test_split(X, y, train_size=0.8, test_size=0.2,\n",
    "                                                      random_state=0)\n",
    "\n",
    "categorical_cols = [col for col in X.columns if X[col].dtype in ['object']]\n",
    "\n",
    "# Select numerical columns\n",
    "numerical_cols = [col for col in X.columns if X[col].dtype in ['int64', 'float64']]\n",
    "       \n",
    "# Keep selected columns only\n",
    "my_cols = categorical_cols + numerical_cols\n",
    "X_train = X_train[my_cols].copy()\n",
    "X_valid = X_valid[my_cols].copy()\n",
    "\n",
    "numerical_transformer = SimpleImputer(strategy='mean',missing_values=np.nan)\n",
    "\n",
    "# Preprocessing for categorical data\n",
    "categorical_transformer = Pipeline(steps=[\n",
    "    ('imputer',SimpleImputer(strategy='constant',missing_values=None, fill_value='missing_value')),\n",
    "    ('encoder', OneHotEncoder(handle_unknown='ignore'))\n",
    "])\n",
    "\n",
    "sc = StandardScaler()\n",
    "\n",
    "# Bundle preprocessing for numerical and categorical data\n",
    "preprocessor = ColumnTransformer(\n",
    "    transformers=[\n",
    "        ('num', numerical_transformer, numerical_cols),\n",
    "        ('cat', categorical_transformer, categorical_cols)\n",
    "    ], remainder='passthrough')\n",
    "\n",
    "model = linear_model.LinearRegression()\n",
    "\n",
    "#print(preprocessor.fit_transform(X_train, y_train))\n",
    "\n",
    "# Bundle preprocessing and modeling code in a pipeline\n",
    "my_pipeline = Pipeline(steps=[('preprocessor', preprocessor),\n",
    "                              ('reduce_dims', TruncatedSVD(n_components=5)),\n",
    "                              ('scaler', sc),\n",
    "                              ('model', model)\n",
    "                             ])\n",
    "\n",
    "# Preprocessing of training data, fit model \n",
    "my_pipeline.fit(X_train, y_train)\n",
    "\n",
    "\n",
    "# Preprocessing of validation data, get predictions\n",
    "preds = my_pipeline.predict(X_valid)\n",
    "\n",
    "print('Coefficients: \\n', model.coef_)\n"
   ]
  },
  {
   "cell_type": "code",
   "execution_count": null,
   "metadata": {},
   "outputs": [
    {
     "name": "stdout",
     "output_type": "stream",
     "text": [
      "(1170342, 1)\n",
      "250516149439.59473\n"
     ]
    }
   ],
   "source": [
    "import seaborn as sns\n",
    "\n",
    "print(preds.shape)\n",
    "#print(preds)\n",
    "print(mean_absolute_error(y_valid, preds))\n",
    "\n",
    "# Set the width and height of the figure\n",
    "plt.figure(figsize=(30,6))\n",
    "\n",
    "# Add title\n",
    "plt.title(\"Average Arrival Delay for Spirit Airlines Flights, by Month\")\n",
    "\n",
    "# Bar chart showing average arrival delay for Spirit Airlines flights by month\n",
    "sns.barplot(x=y_valid[0], y=X_valid['executed_transactions'])\n",
    "#sns.plot(x=X_train, y=y_train)~\n",
    "\n",
    "# Add label for vertical axis\n",
    "plt.ylabel(\"Transaction value\")"
   ]
  },
  {
   "cell_type": "code",
   "execution_count": 65,
   "metadata": {},
   "outputs": [
    {
     "name": "stdout",
     "output_type": "stream",
     "text": [
      "0.23.1\n"
     ]
    }
   ],
   "source": []
  },
  {
   "cell_type": "code",
   "execution_count": null,
   "metadata": {},
   "outputs": [],
   "source": []
  }
 ],
 "metadata": {
  "kernelspec": {
   "display_name": "Python 3",
   "language": "python",
   "name": "python3"
  },
  "language_info": {
   "codemirror_mode": {
    "name": "ipython",
    "version": 3
   },
   "file_extension": ".py",
   "mimetype": "text/x-python",
   "name": "python",
   "nbconvert_exporter": "python",
   "pygments_lexer": "ipython3",
   "version": "3.8.3"
  }
 },
 "nbformat": 4,
 "nbformat_minor": 4
}
