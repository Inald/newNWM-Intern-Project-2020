{
 "cells": [
  {
   "cell_type": "code",
   "execution_count": null,
   "metadata": {},
   "outputs": [],
   "source": [
    "import pandas as pd\n",
    "import numpy as np\n",
    "from sklearn.decomposition import PCA\n",
    "from datetime import date, timedelta  \n",
    "from sklearn.compose import ColumnTransformer\n",
    "from sklearn.pipeline import Pipeline\n",
    "from sklearn.metrics import mean_absolute_error\n",
    "from sklearn.ensemble import RandomForestRegressor\n",
    "from sklearn.impute import SimpleImputer\n",
    "from sklearn.preprocessing import StandardScaler\n",
    "from sklearn import preprocessing\n",
    "import matplotlib.pyplot as plt\n",
    "from sklearn.model_selection import train_test_split\n",
    "from sklearn.preprocessing import LabelEncoder\n",
    "from sklearn.preprocessing import OneHotEncoder\n",
    "from sklearn import datasets, linear_model\n",
    "from sklearn.decomposition import TruncatedSVD\n",
    "from datetime import datetime\n",
    "import seaborn as sns\n",
    "import matplotlib.pyplot as plt\n",
    "import unittest\n",
    "import os\n",
    "\n"
   ]
  },
  {
   "cell_type": "code",
   "execution_count": null,
   "metadata": {},
   "outputs": [],
   "source": [
    "df = pd.read_feather('C:/Users/asus/Documents/rts27.feather')\n",
    "\n",
    "#Columns deemed unneccessary for this task\n",
    "df.drop(['file_name','designated_market_makers','legal_entity_name', 'systematic_internaliser_flag'], axis = 1, inplace = True)\n"
   ]
  },
  {
   "cell_type": "code",
   "execution_count": null,
   "metadata": {},
   "outputs": [],
   "source": [
    "#Filters the code to FX forwards only\n",
    "df = df.loc[(df['instrument_classification']).astype(str).str.contains(\"JF\") | (df['source_instrument_desc']).astype(str).str.contains(\"Forward\") | (df['source_instrument_name']).astype(str).str.contains(\"Forward\")]\n",
    "df = df.drop(['order_request_quotes_received', 'total_value_of_transactions', 'liquidity_provider_flag','executed_transactions', 'median_size_request_quotes_gbp','egb_eligible_flag','data_quality_flag','central_bank_isin_flag', 'data_quality_flag', 'smartie_instrument_name', 'active', 'business', 'order_request_quotes_can_wdrwn','order_request_quotes_modified'], axis = 1)\n",
    "\n",
    "#df.to_csv('C:/Users/inald/Documents/NWMprod/wetransfer-0f4d76/RTS27filtered.csv')\n",
    "print(df['bank_name'].unique())"
   ]
  },
  {
   "cell_type": "code",
   "execution_count": null,
   "metadata": {},
   "outputs": [],
   "source": [
    "df.to_csv('C:/Users/inald/Documents/NWMprod/wetransfer-0f4d76/RTS27filtered.csv')"
   ]
  },
  {
   "cell_type": "code",
   "execution_count": null,
   "metadata": {},
   "outputs": [],
   "source": [
    "reducedRTS = pd.read_csv(\"C:/Users/inald/Documents/NWMprod/wetransfer-0f4d76/RTS27filtered.csv\")"
   ]
  },
  {
   "cell_type": "code",
   "execution_count": null,
   "metadata": {},
   "outputs": [],
   "source": [
    "reducedRTS['date_of_trading_day'] = pd.to_datetime(reducedRTS['date_of_trading_day'])\n",
    "\n",
    "def get_quarter(start_date, end_date, data):\n",
    "    mask = (df['date_of_trading_day'] > start_date) & (df['date_of_trading_day'] <= end_date) & (df['source_instrument_name']).astype(str).str.contains(\"20180321\")\n",
    "    rtsQ = df.loc[mask]\n",
    "    return rtsQ\n",
    "\n",
    "#df = df.loc[mask]\n",
    "q1Rts = get_quarter('2018-03-07', '2018-03-28', df)\n",
    "\n",
    "fig, ax = plt.subplots(figsize = (12,6))\n",
    "sns.barplot(x = q1Rts['date_of_trading_day'], y = q1Rts['total_value_of_trans_gbp'], estimator = sum, ci = None ,ax=ax, hue = q1Rts['bank_name'])\n",
    "x_dates = q1Rts['date_of_trading_day'] .dt.strftime('%Y-%m-%d').sort_values().unique()\n",
    "ax.set_xticklabels(labels=x_dates, rotation=45, ha='right')\n",
    "print(q1Rts['bank_name'].unique())"
   ]
  },
  {
   "cell_type": "code",
   "execution_count": null,
   "metadata": {},
   "outputs": [],
   "source": [
    "# Select target\n",
    "y = df['total_value_of_transactions']\n",
    "# To keep things simple, we'll use only numerical predictors\n",
    "dropped_df = df.drop(['total_value_of_transactions'], axis=1)\n",
    "X = dropped_df\n",
    "\n",
    "im = SimpleImputer(strategy='mean',missing_values=np.nan)\n",
    "y = y.to_numpy().reshape(-1,1)\n",
    "y = im.fit_transform(y)\n",
    "y = pd.DataFrame(y)\n",
    "print(y)\n",
    "\n",
    "# Divide data into training and validation subsets\n",
    "X_train, X_valid, y_train, y_valid = train_test_split(X, y, train_size=0.8, test_size=0.2,\n",
    "                                                      random_state=0)\n",
    "\n",
    "categorical_cols = [col for col in X.columns if X[col].dtype in ['object']]\n",
    "\n",
    "# Select numerical columns\n",
    "numerical_cols = [col for col in X.columns if X[col].dtype in ['int64', 'float64']]\n",
    "       \n",
    "# Keep selected columns only\n",
    "my_cols = categorical_cols + numerical_cols\n",
    "X_train = X_train[my_cols].copy()\n",
    "X_valid = X_valid[my_cols].copy()\n",
    "\n",
    "numerical_transformer = SimpleImputer(strategy='mean',missing_values=np.nan)\n",
    "\n",
    "# Preprocessing for categorical data\n",
    "categorical_transformer = Pipeline(steps=[\n",
    "    ('imputer',SimpleImputer(strategy='constant',missing_values=None, fill_value='missing_value')),\n",
    "    ('encoder', OneHotEncoder(handle_unknown='ignore'))\n",
    "])\n",
    "\n",
    "sc = StandardScaler()\n",
    "\n",
    "# Bundle preprocessing for numerical and categorical data\n",
    "preprocessor = ColumnTransformer(\n",
    "    transformers=[\n",
    "        ('num', numerical_transformer, numerical_cols),\n",
    "        ('cat', categorical_transformer, categorical_cols)\n",
    "    ], remainder='passthrough')\n",
    "\n",
    "model = linear_model.LinearRegression()\n",
    "\n",
    "#print(preprocessor.fit_transform(X_train, y_train))\n",
    "\n",
    "# Bundle preprocessing and modeling code in a pipeline\n",
    "my_pipeline = Pipeline(steps=[('preprocessor', preprocessor),\n",
    "                              ('scaler', sc),\n",
    "                              ('model', model)\n",
    "                             ])\n",
    "\n",
    "# Preprocessing of training data, fit model \n",
    "my_pipeline.fit(X_train, y_train)\n",
    "\n",
    "\n",
    "# Preprocessing of validation data, get predictions\n",
    "preds = my_pipeline.predict(X_valid)\n",
    "svd = TruncatedSVD(n_components=5)\n",
    "svd.fit_transform(X_train, y_train, mean=False)\n",
    "svd.transform(preds, mean=False)\n",
    "print(X_train.head(10))\n",
    "\n",
    "print('Coefficients: \\n', model.coef_)"
   ]
  },
  {
   "cell_type": "code",
   "execution_count": null,
   "metadata": {
    "scrolled": true
   },
   "outputs": [],
   "source": [
    "fig, ax = plt.subplots(figsize = (12,6)) \n",
    "#sns.barplot(x = df['date_of_trading_day'], y = df['total_value_of_trans_eur'], estimator = sum, ci = None, ax=ax, hue = df['bank_name'])\n",
    "\n",
    "sns.countplot(x = df['date_of_trading_day'], ax=ax, hue = df['bank_name'])\n",
    "\n",
    "x_dates = df['date_of_trading_day'] .dt.strftime('%Y-%m-%d').sort_values().unique()\n",
    "ax.set_xticklabels(labels=x_dates, rotation=45, ha='right')\n",
    "\n",
    "#new graph - showing off the total value of gbp traded\n",
    "volume = df.groupby('total_value_of_trans_gbp')\n",
    "fig, ax = plt.subplots(figsize = (12,6))\n",
    "sns.barplot(x = df['date_of_trading_day'], y = df['total_value_of_trans_gbp'], estimator = sum, ci = None ,ax=ax, hue = df['bank_name'])\n",
    "x_dates = df['date_of_trading_day'] .dt.strftime('%Y-%m-%d').sort_values().unique()\n",
    "ax.set_xticklabels(labels=x_dates, rotation=45, ha='right')\n",
    "\n",
    "sns.pairplot(reducedRTS, hue = 'bank_name')\n",
    "plt.show()"
   ]
  },
  {
   "cell_type": "code",
   "execution_count": null,
   "metadata": {},
   "outputs": [],
   "source": [
    "TESTDATA_FILENAME = 'C:/Users/inald/Documents/NWMprod/wetransfer-0f4d76/rts27.feather'\n",
    "dfTest = pd.read_feather('C:/Users/inald/Documents/NWMprod/wetransfer-0f4d76/rts27.feather')"
   ]
  },
  {
   "cell_type": "code",
   "execution_count": null,
   "metadata": {},
   "outputs": [],
   "source": [
    "class TestNotebook(unittest.TestCase):\n",
    "    \n",
    "    \n",
    "    def test_add(self):\n",
    "        self.assertEqual(4,4)\n",
    "\n",
    "    #checks that the dataframes contain frames\n",
    "    def test_data_read(self):\n",
    "        if dfTest.empty:\n",
    "            self.assertTrue(False)\n",
    "        else:\n",
    "            self.assertTrue(True)\n",
    "    \n",
    "    #Test to check that columns are disposed of that are not needed        \n",
    "    def test_dropping_columns(self):\n",
    "        dropped_df = dfTest.drop(['date_created', 'instrument_identifier'], axis=1)\n",
    "        Xtest = dropped_df\n",
    "        count = 0\n",
    "        count2 = 0\n",
    "        for col in dfTest.columns:\n",
    "            count = count + 1\n",
    "        for col in Xtest.columns:\n",
    "            count2 = count + 1\n",
    "        self.assertNotEqual(count, count2)\n",
    "        \n",
    "   #Test to check that the train data is larger than the test - test the 80% v 20% difference    \n",
    "    def test_splitting_data_size(self):\n",
    "        Xtest = dfTest.drop(['date_created', 'instrument_identifier'], axis=1)\n",
    "        ytest = dfTest['date_created']\n",
    "        Xtest_train, Xtest_valid, ytest_train, ytest_valid = train_test_split(Xtest, ytest, train_size=0.8, test_size=0.2, random_state=0)\n",
    "        if Xtest_train.size > Xtest_valid.size:\n",
    "            self.assertTrue(True)\n",
    "        else:\n",
    "            self.assertTrue(False)\n",
    "    \n",
    "    unittest.main(argv=[''], verbosity=3, exit=False)\n",
    "   "
   ]
  },
  {
   "cell_type": "code",
   "execution_count": null,
   "metadata": {},
   "outputs": [],
   "source": []
  }
 ],
 "metadata": {
  "kernelspec": {
   "display_name": "Python 3",
   "language": "python",
   "name": "python3"
  },
  "language_info": {
   "codemirror_mode": {
    "name": "ipython",
    "version": 3
   },
   "file_extension": ".py",
   "mimetype": "text/x-python",
   "name": "python",
   "nbconvert_exporter": "python",
   "pygments_lexer": "ipython3",
   "version": "3.8.3"
  }
 },
 "nbformat": 4,
 "nbformat_minor": 4
}
